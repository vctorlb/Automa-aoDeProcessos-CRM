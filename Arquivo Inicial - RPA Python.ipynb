{
 "cells": [
  {
   "cell_type": "markdown",
   "metadata": {},
   "source": [
    "# RPA com Python\n",
    "\n",
    "- O que é RPA?\n",
    "- Por que isso é diferente de Selenium/Web-Scraping e do que vimos até agora?\n",
    "    - Pontos Positivos\n",
    "    - Pontos Negativos\n",
    "- Biblioteca usada:\n",
    "    - pip install pyautogui\n",
    "    - https://pyautogui.readthedocs.io/en/latest/\n",
    "        - Para os comandos de imagem pode ser que seja necessário instalar pip install pillow\n",
    "        - Para resolver problemas de caracteres especiais vamos usar um macete com a pyperclip\n",
    "        \n",
    "- Link com um resumo dos principais comandos: https://pyautogui.readthedocs.io/en/latest/quickstart.html"
   ]
  },
  {
   "cell_type": "markdown",
   "metadata": {},
   "source": [
    "## Desafio\n",
    "\n",
    "- Vamos automatizar a extração de informações de um sistema e envio de um relatório por e-mail\n",
    "- No nosso caso, para todo mundo conseguir fazer o mesmo programa, o nosso \"sistema\" vai ser o Gmail, mas o mesmo processo pode ser feito com qualquer programa do seu computador e qualquer sistema\n",
    "    - Passo 1: Entrar no sistema (entrar no Gmail)\n",
    "    - Passo 2: Entrar em uma aba específica do sistema onde tem o nosso relatório (Aba Contatos)\n",
    "    - Passo 3: Exportar o Relatório (Exportar Contatos)\n",
    "    - Passo 4: Pegar o relatório exportado, tratar e pegar as informações que queremos\n",
    "    - Passo 5: Preencher/Atualizar informações do sistema (No nosso caso, criar um e-mail e enviar)"
   ]
  },
  {
   "cell_type": "code",
   "execution_count": 221,
   "metadata": {},
   "outputs": [],
   "source": [
    "import pyautogui\n",
    "import time\n",
    "#pyautogui.write()\n",
    "#pyautogui.click -> clica\n",
    "#pyautogui.LocateOnScreen -> identifica uma na sua tela\n",
    "#pyautogui.hotkey -> usa atalhos do teclado\n",
    "#pyautogui.press -> aperta um botão do teclado\n",
    "\n",
    "\n",
    "#abrir o sistema(abrir o navegado - Google Chrome)\n",
    "pyautogui.PAUSE = 1\n",
    "#apertar o windows no teclado\n",
    "pyautogui.press('win')\n",
    "#digitar chrome\n",
    "pyautogui.write(\"Google chrome\")\n",
    "#apertar enter\n",
    "pyautogui.press('enter')\n",
    "time.sleep(5)\n",
    "# entrar no gmail\n",
    "pyautogui.write(\"gmail\")\n",
    "pyautogui.press('enter')\n",
    "\n",
    "#Localizar imagem: posição x, posicao y, largura e alturagmail\n",
    "x, y, largura, altura = pyautogui.locateOnScreen('botaoGmail.png')\n",
    "#CLicar imagem\n",
    "pyautogui.click(x + largura/2, y + altura/2)\n",
    "\n",
    "#esperar o gmail\n",
    "\n",
    "#while not pyautogui.locateOnScreen(\"img.png\"):\n",
    "time.sleep(10)\n",
    "#entrar em contatos\n",
    "x, y, largura, altura = pyautogui.locateOnScreen(\"pontos.png\")\n",
    "pyautogui.click(x + largura/2, y + altura/2)\n",
    "x, y, largura, altura = pyautogui.locateOnScreen(\"contato.png\")\n",
    "pyautogui.click(x + largura/2, y + altura/2)\n",
    "\n",
    "time.sleep(10)\n",
    "\n",
    "#exportar em contatos\n",
    "x, y, largura, altura = pyautogui.locateOnScreen(\"exp1.png\")\n",
    "pyautogui.click(x + largura/2, y + altura/2)\n",
    "time.sleep(10)\n",
    "x, y, largura, altura = pyautogui.locateOnScreen(\"2.png\")\n",
    "pyautogui.click(x + largura/2, y + altura/2)\n",
    "\n"
   ]
  },
  {
   "cell_type": "raw",
   "metadata": {},
   "source": []
  },
  {
   "cell_type": "markdown",
   "metadata": {},
   "source": [
    "### gmail\n",
    "Agora vamos escrever o e-mail"
   ]
  },
  {
   "cell_type": "code",
   "execution_count": 247,
   "metadata": {},
   "outputs": [
    {
     "ename": "SyntaxError",
     "evalue": "unterminated string literal (detected at line 9) (3538420206.py, line 9)",
     "output_type": "error",
     "traceback": [
      "\u001b[1;36m  Cell \u001b[1;32mIn[247], line 9\u001b[1;36m\u001b[0m\n\u001b[1;33m    for email in df['Email 1 - Value]:\u001b[0m\n\u001b[1;37m                    ^\u001b[0m\n\u001b[1;31mSyntaxError\u001b[0m\u001b[1;31m:\u001b[0m unterminated string literal (detected at line 9)\n"
     ]
    }
   ],
   "source": [
    "import pandas as pd\n",
    "import pyperclip\n",
    "df = pd.read_csv(r'C:\\Users\\vctor\\Downloads\\contacts (1).csv')\n",
    "df = df.dropna(axis=0)\n",
    "display(df)\n",
    "\n",
    "pyautogui.htokey('ctrl', 'pgup')\n",
    "\n",
    "for email in df['Email 1 - Value]:\n",
    "    #clicar no botão escrever\n",
    "    x, y, largura, altura = pyautogui.locateOnScreen(\"exp1.png\")\n",
    "    pyautogui.click(x + largura/2, y + altura/2)\n",
    "\n",
    "    #escrever email\n",
    "    pyautogui.write(email)\n",
    "    pyautogui.press('enter')\n",
    "    pyautogui.press('tab')\n",
    "    pyautogui.write('lira caloteiro')\n",
    "    pyautogui.press('tab')\n",
    "    texto = '''\n",
    "    Coe Victor\n",
    "\n",
    "    para de dar calote\n",
    "\n",
    "    '''\n",
    "    pypereclip.copy(texto)\n",
    "    pyautogui.hotkey('crtl', 'v' )\n",
    "    pyautogui.hotkey('crtl', 'enter' )\n",
    "\n"
   ]
  },
  {
   "cell_type": "markdown",
   "metadata": {},
   "source": [
    "### E se eu já tiver com a aba aberta, como que eu coloco ela na frente?"
   ]
  },
  {
   "cell_type": "code",
   "execution_count": 57,
   "metadata": {},
   "outputs": [],
   "source": []
  },
  {
   "cell_type": "markdown",
   "metadata": {},
   "source": [
    "### Como descobrir a posição do mouse do local que eu quero"
   ]
  },
  {
   "cell_type": "code",
   "execution_count": 2,
   "metadata": {},
   "outputs": [
    {
     "name": "stdout",
     "output_type": "stream",
     "text": [
      "Point(x=1363, y=1441)\n"
     ]
    }
   ],
   "source": []
  }
 ],
 "metadata": {
  "kernelspec": {
   "display_name": "Python [conda env:base] *",
   "language": "python",
   "name": "conda-base-py"
  },
  "language_info": {
   "codemirror_mode": {
    "name": "ipython",
    "version": 3
   },
   "file_extension": ".py",
   "mimetype": "text/x-python",
   "name": "python",
   "nbconvert_exporter": "python",
   "pygments_lexer": "ipython3",
   "version": "3.12.7"
  }
 },
 "nbformat": 4,
 "nbformat_minor": 4
}
